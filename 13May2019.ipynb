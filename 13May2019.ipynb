{
 "cells": [
  {
   "cell_type": "code",
   "execution_count": 1,
   "metadata": {},
   "outputs": [],
   "source": [
    "import cv2\n",
    "import time\n",
    "import numpy as np"
   ]
  },
  {
   "cell_type": "code",
   "execution_count": 2,
   "metadata": {},
   "outputs": [],
   "source": [
    "capture = cv2.VideoCapture('test1.mp4')"
   ]
  },
  {
   "cell_type": "code",
   "execution_count": 3,
   "metadata": {},
   "outputs": [
    {
     "name": "stdout",
     "output_type": "stream",
     "text": [
      "960 540 30\n"
     ]
    }
   ],
   "source": [
    "width = int(capture.get(cv2.CAP_PROP_FRAME_WIDTH))\n",
    "height = int(capture.get(cv2.CAP_PROP_FRAME_HEIGHT))\n",
    "\n",
    "#count = int(capture.get(cv2.CAP_PROP_FRAME_COUNT))\n",
    "fps = int(capture.get(cv2.CAP_PROP_FPS))\n",
    "print(width,height,fps)"
   ]
  },
  {
   "cell_type": "markdown",
   "metadata": {},
   "source": [
    "### Show two frames at a time"
   ]
  },
  {
   "cell_type": "code",
   "execution_count": 3,
   "metadata": {},
   "outputs": [],
   "source": [
    "while capture.isOpened():\n",
    "    \n",
    "    ret1,frame1 = capture.read()\n",
    "    ret2,frame2 = capture.read()\n",
    "    \n",
    "    if ret1 == True:\n",
    "        \n",
    "        gray = cv2.cvtColor(frame1, cv2.COLOR_BGR2GRAY)\n",
    "        #time.sleep(1/fps)\n",
    "        cv2.imshow('frame1',gray)\n",
    "    \n",
    "        if cv2.waitKey(1) & 0xFF == ord('q'):\n",
    "            break\n",
    "            \n",
    "    if ret2 == True:\n",
    "        \n",
    "        gray = cv2.cvtColor(frame2, cv2.COLOR_BGR2GRAY)\n",
    "        #time.sleep(1/fps)\n",
    "        cv2.imshow('frame2',gray)\n",
    "    \n",
    "        if cv2.waitKey(1) & 0xFF == ord('q'):\n",
    "            break\n",
    "    \n",
    "    if not(ret1 or ret2):\n",
    "        break\n",
    "        \n",
    "capture.release()\n",
    "cv2.destroyAllWindows()"
   ]
  },
  {
   "cell_type": "markdown",
   "metadata": {},
   "source": [
    "### Find and store unique slides(Naive approach)"
   ]
  },
  {
   "cell_type": "code",
   "execution_count": 5,
   "metadata": {},
   "outputs": [],
   "source": [
    "capture = cv2.VideoCapture('test1.mp4')"
   ]
  },
  {
   "cell_type": "code",
   "execution_count": 6,
   "metadata": {},
   "outputs": [],
   "source": [
    "ret,frame = capture.read()\n",
    "unique = cv2.cvtColor(frame, cv2.COLOR_BGR2GRAY)\n",
    "count = 0\n",
    "\n",
    "while capture.isOpened() and ret:\n",
    "    ret1,frame1 = capture.read()\n",
    "    \n",
    "    if ret1:\n",
    "        gray = cv2.cvtColor(frame1, cv2.COLOR_BGR2GRAY)\n",
    "        score = abs(int(np.sum(unique))-int(np.sum(gray)))\n",
    "        if score > 10000000:\n",
    "            #print(count,score)\n",
    "            name = 'slide_'+str(count)+'.jpg'\n",
    "            count += 1\n",
    "            cv2.imwrite(name,unique)\n",
    "            unique = gray\n",
    "            \n",
    "    else:\n",
    "        count += 1\n",
    "        cv2.imwrite(name,unique)\n",
    "        break\n",
    "        \n",
    "capture.release()"
   ]
  },
  {
   "cell_type": "markdown",
   "metadata": {},
   "source": [
    "### Find unique slides and store"
   ]
  },
  {
   "cell_type": "code",
   "execution_count": null,
   "metadata": {},
   "outputs": [],
   "source": [
    "import cv2\n",
    "import numpy as np"
   ]
  },
  {
   "cell_type": "code",
   "execution_count": null,
   "metadata": {},
   "outputs": [],
   "source": [
    "capture = cv2.VideoCapture('test1.mp4')"
   ]
  },
  {
   "cell_type": "code",
   "execution_count": null,
   "metadata": {},
   "outputs": [],
   "source": [
    "def mse(imageA, imageB):\n",
    "\n",
    "    err = np.sum((imageA.astype(\"float\") - imageB.astype(\"float\")) ** 2)\n",
    "    err /= float(imageA.shape[0] * imageA.shape[1])\n",
    "    \n",
    "    return err"
   ]
  },
  {
   "cell_type": "code",
   "execution_count": null,
   "metadata": {},
   "outputs": [],
   "source": [
    "ret,frame = capture.read()\n",
    "unique = cv2.cvtColor(frame, cv2.COLOR_BGR2GRAY)\n",
    "count = 1\n",
    "\n",
    "while capture.isOpened() and ret:\n",
    "    ret1,frame1 = capture.read()\n",
    "    \n",
    "    if ret1:\n",
    "        gray = cv2.cvtColor(frame1, cv2.COLOR_BGR2GRAY)\n",
    "        mean_square_error = mse(gray,unique)\n",
    "        \n",
    "        if mean_square_error>3200:\n",
    "            print(mean_square_error)\n",
    "            name = 'slide_'+str(count)+'.jpg'\n",
    "            count += 1\n",
    "            cv2.imwrite(name,unique)\n",
    "            unique = gray\n",
    "            \n",
    "    else:\n",
    "        count += 1\n",
    "        cv2.imwrite(name,unique)\n",
    "        break\n",
    "        \n",
    "capture.release()"
   ]
  },
  {
   "cell_type": "markdown",
   "metadata": {},
   "source": [
    "### show full frame and topic name in other frame"
   ]
  },
  {
   "cell_type": "code",
   "execution_count": null,
   "metadata": {},
   "outputs": [],
   "source": [
    "import cv2\n",
    "import numpy as np\n",
    "import time"
   ]
  },
  {
   "cell_type": "code",
   "execution_count": null,
   "metadata": {},
   "outputs": [],
   "source": [
    "def mse(imageA, imageB):\n",
    "\n",
    "    err = np.sum((imageA.astype(\"float\") - imageB.astype(\"float\")) ** 2)\n",
    "    err /= float(imageA.shape[0] * imageA.shape[1])\n",
    "    \n",
    "    return err"
   ]
  },
  {
   "cell_type": "code",
   "execution_count": null,
   "metadata": {},
   "outputs": [],
   "source": [
    "fps = 25"
   ]
  },
  {
   "cell_type": "code",
   "execution_count": null,
   "metadata": {},
   "outputs": [],
   "source": [
    "capture = cv2.VideoCapture('test1.mp4')"
   ]
  },
  {
   "cell_type": "code",
   "execution_count": null,
   "metadata": {},
   "outputs": [],
   "source": [
    "while capture.isOpened():\n",
    "    \n",
    "    ret1,frame1 = capture.read()\n",
    "    ret2,frame2 = capture.read()\n",
    "    \n",
    "    if ret1 == True:\n",
    "        \n",
    "        gray = cv2.cvtColor(frame1, cv2.COLOR_BGR2GRAY)\n",
    "        g1 = gray[0:80,0:960]\n",
    "        #time.sleep(1/fps)\n",
    "        cv2.imshow('frame1',gray)\n",
    "    \n",
    "        if cv2.waitKey(1) & 0xFF == ord('q'):\n",
    "            break\n",
    "            \n",
    "    if ret2 == True:\n",
    "        \n",
    "        gray1 = cv2.cvtColor(frame2, cv2.COLOR_BGR2GRAY)\n",
    "        g2 = gray1[0:460,0:960]\n",
    "        #time.sleep(1/fps)\n",
    "        #name = 'frame2_h_'+str(mse(g2,g1))+'_f_'+str(mse(gray,gray1))\n",
    "        cv2.imshow('frame2',g2)\n",
    "        #print(name)\n",
    "    \n",
    "        if cv2.waitKey(1) & 0xFF == ord('q'):\n",
    "            break\n",
    "    \n",
    "    if not(ret1 or ret2):\n",
    "        break\n",
    "        \n",
    "capture.release()\n",
    "cv2.destroyAllWindows()"
   ]
  },
  {
   "cell_type": "markdown",
   "metadata": {},
   "source": [
    "### Find unique slide based on topic comparison"
   ]
  },
  {
   "cell_type": "code",
   "execution_count": null,
   "metadata": {},
   "outputs": [],
   "source": [
    "import cv2\n",
    "import numpy as np"
   ]
  },
  {
   "cell_type": "code",
   "execution_count": null,
   "metadata": {},
   "outputs": [],
   "source": [
    "def mse(imageA, imageB):\n",
    "\n",
    "    err = np.sum((imageA.astype(\"float\") - imageB.astype(\"float\")) ** 2)\n",
    "    err /= float(imageA.shape[0] * imageA.shape[1])\n",
    "    \n",
    "    return err"
   ]
  },
  {
   "cell_type": "code",
   "execution_count": null,
   "metadata": {},
   "outputs": [],
   "source": [
    "capture = cv2.VideoCapture('test1.mp4')"
   ]
  },
  {
   "cell_type": "code",
   "execution_count": null,
   "metadata": {},
   "outputs": [],
   "source": [
    "ret,frame = capture.read()\n",
    "unique = cv2.cvtColor(frame, cv2.COLOR_BGR2GRAY)\n",
    "uheader = unique[0:80,0:960]\n",
    "count = 1\n",
    "fcount = 1\n",
    "\n",
    "while capture.isOpened() and ret:\n",
    "    ret1,frame1 = capture.read()\n",
    "    \n",
    "    if ret1:\n",
    "        fcount += 1\n",
    "        gray = cv2.cvtColor(frame1, cv2.COLOR_BGR2GRAY)\n",
    "        gheader = gray[0:80,0:960]\n",
    "        mse_orig = mse(gray[80:460,0:960],unique[80:460,0:960])\n",
    "        mse_header = mse(gheader,uheader)\n",
    "        \n",
    "        if mse_orig>3000 or mse_header>4380:\n",
    "            print(mse_orig,mse_header)\n",
    "            name = str(count)+'_frame_'+str(fcount)+'.jpg'\n",
    "            count += 1\n",
    "            cv2.imwrite(name,unique)\n",
    "            unique = gray\n",
    "            uheader = unique[0:80,0:960]\n",
    "            \n",
    "    else:\n",
    "        name = str(count)+'_frame_'+str(fcount)+'.jpg'\n",
    "        count += 1\n",
    "        cv2.imwrite(name,unique)\n",
    "        #count += 1\n",
    "        #cv2.imwrite(name,unique)\n",
    "        break\n",
    "        \n",
    "capture.release()"
   ]
  },
  {
   "cell_type": "markdown",
   "metadata": {},
   "source": [
    "### Find unique slide based on header comparison"
   ]
  },
  {
   "cell_type": "code",
   "execution_count": null,
   "metadata": {},
   "outputs": [],
   "source": [
    "import cv2\n",
    "import numpy as np\n",
    "import pytesseract"
   ]
  },
  {
   "cell_type": "code",
   "execution_count": null,
   "metadata": {},
   "outputs": [],
   "source": [
    "def mse(imageA, imageB):\n",
    "\n",
    "    err = np.sum((imageA.astype(\"float\") - imageB.astype(\"float\")) ** 2)\n",
    "    err /= float(imageA.shape[0] * imageA.shape[1])\n",
    "    \n",
    "    return err"
   ]
  },
  {
   "cell_type": "code",
   "execution_count": null,
   "metadata": {},
   "outputs": [],
   "source": [
    "capture = cv2.VideoCapture('test.mp4')"
   ]
  },
  {
   "cell_type": "code",
   "execution_count": null,
   "metadata": {},
   "outputs": [],
   "source": [
    "ret,frame = capture.read()\n",
    "unique = cv2.cvtColor(frame, cv2.COLOR_BGR2GRAY)\n",
    "uheader = unique[0:80,40:940]\n",
    "count = 1\n",
    "fcount = 1\n",
    "\n",
    "while capture.isOpened() and ret:\n",
    "    ret1,frame1 = capture.read()\n",
    "    \n",
    "    if ret1:\n",
    "        fcount += 1\n",
    "        gray = cv2.cvtColor(frame1, cv2.COLOR_BGR2GRAY)\n",
    "        gheader = gray[0:80,40:940]\n",
    "        mse_orig = mse(gray[80:452,10:952],unique[80:452,10:952])\n",
    "        mse_header = mse(gheader,uheader)\n",
    "        \n",
    "        if mse_orig>1350 and mse_header>750 or mse_header > 5000:\n",
    "            #print(count,mse_orig,mse_header)\n",
    "            name = str(count)+'_frame_'+str(fcount)+'.jpg'\n",
    "            count += 1\n",
    "            cv2.imwrite(name,unique)\n",
    "            print(pytesseract.image_to_string(uheader))\n",
    "            print()\n",
    "            unique = gray\n",
    "            uheader = unique[0:80,40:940]\n",
    "            \n",
    "    else:\n",
    "        name = str(count)+'_frame_'+str(fcount)+'.jpg'\n",
    "        count += 1\n",
    "        cv2.imwrite(name,unique)\n",
    "        print(pytesseract.image_to_string(uheader))\n",
    "        #count += 1\n",
    "        #cv2.imwrite(name,unique)\n",
    "        break\n",
    "        \n",
    "capture.release()"
   ]
  },
  {
   "cell_type": "code",
   "execution_count": null,
   "metadata": {},
   "outputs": [],
   "source": [
    "import imutils"
   ]
  },
  {
   "cell_type": "code",
   "execution_count": null,
   "metadata": {},
   "outputs": [],
   "source": []
  }
 ],
 "metadata": {
  "kernelspec": {
   "display_name": "Python 3",
   "language": "python",
   "name": "python3"
  },
  "language_info": {
   "codemirror_mode": {
    "name": "ipython",
    "version": 3
   },
   "file_extension": ".py",
   "mimetype": "text/x-python",
   "name": "python",
   "nbconvert_exporter": "python",
   "pygments_lexer": "ipython3",
   "version": "3.7.3"
  }
 },
 "nbformat": 4,
 "nbformat_minor": 2
}
