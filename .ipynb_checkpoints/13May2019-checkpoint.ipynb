{
 "cells": [
  {
   "cell_type": "code",
   "execution_count": 2,
   "metadata": {},
   "outputs": [],
   "source": [
    "import cv2\n",
    "import time\n",
    "import numpy as np"
   ]
  },
  {
   "cell_type": "code",
   "execution_count": 3,
   "metadata": {},
   "outputs": [],
   "source": [
    "capture = cv2.VideoCapture('test1.mp4')"
   ]
  },
  {
   "cell_type": "code",
   "execution_count": 4,
   "metadata": {},
   "outputs": [
    {
     "name": "stdout",
     "output_type": "stream",
     "text": [
      "960 540 30\n"
     ]
    }
   ],
   "source": [
    "width = int(capture.get(cv2.CAP_PROP_FRAME_WIDTH))\n",
    "height = int(capture.get(cv2.CAP_PROP_FRAME_HEIGHT))\n",
    "\n",
    "#count = int(capture.get(cv2.CAP_PROP_FRAME_COUNT))\n",
    "fps = int(capture.get(cv2.CAP_PROP_FPS))\n",
    "print(width,height,fps)"
   ]
  },
  {
   "cell_type": "markdown",
   "metadata": {},
   "source": [
    "### Show two frames at a time"
   ]
  },
  {
   "cell_type": "code",
   "execution_count": 5,
   "metadata": {},
   "outputs": [],
   "source": [
    "while capture.isOpened():\n",
    "    \n",
    "    ret1,frame1 = capture.read()\n",
    "    ret2,frame2 = capture.read()\n",
    "    \n",
    "    if ret1 == True:\n",
    "        \n",
    "        gray = cv2.cvtColor(frame1, cv2.COLOR_BGR2GRAY)\n",
    "        #time.sleep(1/fps)\n",
    "        cv2.imshow('frame1',gray)\n",
    "    \n",
    "        if cv2.waitKey(1) & 0xFF == ord('q'):\n",
    "            break\n",
    "            \n",
    "    if ret2 == True:\n",
    "        \n",
    "        gray = cv2.cvtColor(frame2, cv2.COLOR_BGR2GRAY)\n",
    "        #time.sleep(1/fps)\n",
    "        cv2.imshow('frame2',gray)\n",
    "    \n",
    "        if cv2.waitKey(1) & 0xFF == ord('q'):\n",
    "            break\n",
    "    \n",
    "    if not(ret1 or ret2):\n",
    "        break\n",
    "        \n",
    "capture.release()\n",
    "cv2.destroyAllWindows()"
   ]
  },
  {
   "cell_type": "markdown",
   "metadata": {},
   "source": [
    "### Find and store unique slides(Naive approach)"
   ]
  },
  {
   "cell_type": "code",
   "execution_count": 7,
   "metadata": {},
   "outputs": [],
   "source": [
    "capture = cv2.VideoCapture('test1.mp4')"
   ]
  },
  {
   "cell_type": "code",
   "execution_count": 8,
   "metadata": {},
   "outputs": [],
   "source": [
    "ret,frame = capture.read()\n",
    "unique = cv2.cvtColor(frame, cv2.COLOR_BGR2GRAY)\n",
    "count = 0\n",
    "\n",
    "while capture.isOpened() and ret:\n",
    "    ret1,frame1 = capture.read()\n",
    "    \n",
    "    if ret1:\n",
    "        gray = cv2.cvtColor(frame1, cv2.COLOR_BGR2GRAY)\n",
    "        score = abs(int(np.sum(unique))-int(np.sum(gray)))\n",
    "        if score > 10000000:\n",
    "            #print(count,score)\n",
    "            name = 'slide_'+str(count)+'.jpg'\n",
    "            count += 1\n",
    "            cv2.imwrite(name,unique)\n",
    "            unique = gray\n",
    "            \n",
    "    else:\n",
    "        count += 1\n",
    "        cv2.imwrite(name,unique)\n",
    "        break\n",
    "        \n",
    "capture.release()"
   ]
  },
  {
   "cell_type": "markdown",
   "metadata": {},
   "source": [
    "### Find and store unique slides(ssim method)"
   ]
  },
  {
   "cell_type": "code",
   "execution_count": null,
   "metadata": {},
   "outputs": [],
   "source": [
    "import cv2\n",
    "from skimage.measure import compare_ssim"
   ]
  },
  {
   "cell_type": "code",
   "execution_count": null,
   "metadata": {},
   "outputs": [],
   "source": [
    "capture = cv2.VideoCapture('test1.mp4')"
   ]
  },
  {
   "cell_type": "code",
   "execution_count": null,
   "metadata": {},
   "outputs": [],
   "source": [
    "ret,frame = capture.read()\n",
    "unique = cv2.cvtColor(frame, cv2.COLOR_BGR2GRAY)\n",
    "count = 1\n",
    "\n",
    "while capture.isOpened() and ret:\n",
    "    ret1,frame1 = capture.read()\n",
    "    \n",
    "    if ret1:\n",
    "        gray = cv2.cvtColor(frame1, cv2.COLOR_BGR2GRAY)\n",
    "        (score, diff) = compare_ssim(gray, unique, full=True)\n",
    "        \n",
    "        if score<0.76:\n",
    "            print(score)\n",
    "            name = 'slide_'+str(count)+'.jpg'\n",
    "            count += 1\n",
    "            cv2.imwrite(name,unique)\n",
    "            unique = gray\n",
    "            \n",
    "    else:\n",
    "        count += 1\n",
    "        cv2.imwrite(name,unique)\n",
    "        break\n",
    "        \n",
    "capture.release()"
   ]
  },
  {
   "cell_type": "markdown",
   "metadata": {},
   "source": [
    "### Find unique slides and store"
   ]
  },
  {
   "cell_type": "code",
   "execution_count": 9,
   "metadata": {},
   "outputs": [],
   "source": [
    "import cv2\n",
    "import numpy as np"
   ]
  },
  {
   "cell_type": "code",
   "execution_count": 10,
   "metadata": {},
   "outputs": [],
   "source": [
    "capture = cv2.VideoCapture('test1.mp4')"
   ]
  },
  {
   "cell_type": "code",
   "execution_count": 12,
   "metadata": {},
   "outputs": [],
   "source": [
    "def mse(imageA, imageB):\n",
    "\n",
    "    err = np.sum((imageA.astype(\"float\") - imageB.astype(\"float\")) ** 2)\n",
    "    err /= float(imageA.shape[0] * imageA.shape[1])\n",
    "    \n",
    "    return err"
   ]
  },
  {
   "cell_type": "code",
   "execution_count": 13,
   "metadata": {},
   "outputs": [
    {
     "name": "stdout",
     "output_type": "stream",
     "text": [
      "5169.691828703703\n",
      "4369.64000771605\n",
      "3210.991170910494\n",
      "3264.7729552469136\n",
      "3673.6229147376544\n",
      "3325.2687692901236\n",
      "3910.0761689814813\n",
      "4172.541716820988\n",
      "4348.567218364197\n",
      "4634.0768653549385\n",
      "3740.2472164351852\n",
      "3733.3516975308644\n",
      "3741.0774305555556\n",
      "5039.913150077161\n",
      "3828.663628472222\n",
      "5023.58452353395\n",
      "4541.8209760802465\n",
      "10258.817507716049\n",
      "3245.9086265432097\n",
      "3845.592361111111\n",
      "3897.0234239969136\n",
      "6697.090144675926\n",
      "6006.331479552469\n",
      "3257.9867283950616\n",
      "5242.936155478395\n",
      "3999.122478780864\n"
     ]
    }
   ],
   "source": [
    "ret,frame = capture.read()\n",
    "unique = cv2.cvtColor(frame, cv2.COLOR_BGR2GRAY)\n",
    "count = 1\n",
    "\n",
    "while capture.isOpened() and ret:\n",
    "    ret1,frame1 = capture.read()\n",
    "    \n",
    "    if ret1:\n",
    "        gray = cv2.cvtColor(frame1, cv2.COLOR_BGR2GRAY)\n",
    "        mean_square_error = mse(gray,unique)\n",
    "        \n",
    "        if mean_square_error>3200:\n",
    "            print(mean_square_error)\n",
    "            name = 'slide_'+str(count)+'.jpg'\n",
    "            count += 1\n",
    "            cv2.imwrite(name,unique)\n",
    "            unique = gray\n",
    "            \n",
    "    else:\n",
    "        count += 1\n",
    "        cv2.imwrite(name,unique)\n",
    "        break\n",
    "        \n",
    "capture.release()"
   ]
  },
  {
   "cell_type": "markdown",
   "metadata": {},
   "source": [
    "### show full frame and topic name in other frame"
   ]
  },
  {
   "cell_type": "code",
   "execution_count": null,
   "metadata": {},
   "outputs": [],
   "source": [
    "import cv2\n",
    "import numpy as np\n",
    "import time"
   ]
  },
  {
   "cell_type": "code",
   "execution_count": null,
   "metadata": {},
   "outputs": [],
   "source": [
    "def mse(imageA, imageB):\n",
    "\n",
    "    err = np.sum((imageA.astype(\"float\") - imageB.astype(\"float\")) ** 2)\n",
    "    err /= float(imageA.shape[0] * imageA.shape[1])\n",
    "    \n",
    "    return err"
   ]
  },
  {
   "cell_type": "code",
   "execution_count": null,
   "metadata": {},
   "outputs": [],
   "source": [
    "fps = 25"
   ]
  },
  {
   "cell_type": "code",
   "execution_count": null,
   "metadata": {},
   "outputs": [],
   "source": [
    "capture = cv2.VideoCapture('test1.mp4')"
   ]
  },
  {
   "cell_type": "code",
   "execution_count": null,
   "metadata": {},
   "outputs": [],
   "source": [
    "while capture.isOpened():\n",
    "    \n",
    "    ret1,frame1 = capture.read()\n",
    "    ret2,frame2 = capture.read()\n",
    "    \n",
    "    if ret1 == True:\n",
    "        \n",
    "        gray = cv2.cvtColor(frame1, cv2.COLOR_BGR2GRAY)\n",
    "        g1 = gray[0:80,0:960]\n",
    "        time.sleep(1/fps)\n",
    "        cv2.imshow('frame1',gray)\n",
    "    \n",
    "        if cv2.waitKey(1) & 0xFF == ord('q'):\n",
    "            break\n",
    "            \n",
    "    if ret2 == True:\n",
    "        \n",
    "        gray1 = cv2.cvtColor(frame2, cv2.COLOR_BGR2GRAY)\n",
    "        g2 = gray1[0:460,0:960]\n",
    "        time.sleep(1/fps)\n",
    "        #name = 'frame2_h_'+str(mse(g2,g1))+'_f_'+str(mse(gray,gray1))\n",
    "        cv2.imshow('frame2',g2)\n",
    "        #print(name)\n",
    "    \n",
    "        if cv2.waitKey(1) & 0xFF == ord('q'):\n",
    "            break\n",
    "    \n",
    "    if not(ret1 or ret2):\n",
    "        break\n",
    "        \n",
    "capture.release()\n",
    "cv2.destroyAllWindows()"
   ]
  },
  {
   "cell_type": "markdown",
   "metadata": {},
   "source": [
    "### Find unique slide based on topic comparison"
   ]
  },
  {
   "cell_type": "code",
   "execution_count": 14,
   "metadata": {},
   "outputs": [],
   "source": [
    "import cv2\n",
    "import numpy as np"
   ]
  },
  {
   "cell_type": "code",
   "execution_count": 15,
   "metadata": {},
   "outputs": [],
   "source": [
    "def mse(imageA, imageB):\n",
    "\n",
    "    err = np.sum((imageA.astype(\"float\") - imageB.astype(\"float\")) ** 2)\n",
    "    err /= float(imageA.shape[0] * imageA.shape[1])\n",
    "    \n",
    "    return err"
   ]
  },
  {
   "cell_type": "code",
   "execution_count": 16,
   "metadata": {},
   "outputs": [],
   "source": [
    "capture = cv2.VideoCapture('test1.mp4')"
   ]
  },
  {
   "cell_type": "code",
   "execution_count": 17,
   "metadata": {},
   "outputs": [
    {
     "name": "stdout",
     "output_type": "stream",
     "text": [
      "4065.8962774122806 15581.329817708332\n",
      "3168.1934457236844 14445.007747395834\n",
      "4076.3681469298244 1818.9823958333334\n",
      "4442.055948464912 1639.7574348958333\n",
      "4972.05599506579 1145.225859375\n",
      "4494.0428673245615 1065.6798046875\n",
      "2350.3580235745612 15188.166328125\n",
      "2777.113900767544 14959.776783854166\n",
      "3190.8889994517544 1502.5836848958334\n",
      "1429.963007127193 14928.031184895834\n",
      "3379.9763048245613 15224.944583333334\n",
      "4915.49419133772 1896.9220963541666\n",
      "4907.552286184211 1889.078359375\n",
      "4918.358078399123 1888.9370703125\n",
      "5116.496417214912 7811.633502604167\n",
      "388.0722505482456 6265.2560546875\n",
      "3097.4286513157895 14.162486979166667\n",
      "5074.400104166667 9488.914036458333\n",
      "1722.5805180921052 4387.1475390625\n",
      "7474.7965268640355 23877.685182291665\n",
      "4215.960814144737 1877.4560807291666\n",
      "5045.595537280702 1984.7132682291667\n",
      "5157.497560307018 1805.7211588541666\n",
      "7471.570243969299 1852.3514713541667\n",
      "6532.6608662280705 1651.2919401041668\n",
      "1340.1069682017544 15624.630716145834\n",
      "4210.498379934211 15388.485091145832\n",
      "5682.398453947369 1.3264192708333333\n",
      "3676.2228344298246 1784.6222005208333\n"
     ]
    }
   ],
   "source": [
    "ret,frame = capture.read()\n",
    "unique = cv2.cvtColor(frame, cv2.COLOR_BGR2GRAY)\n",
    "uheader = unique[0:80,0:960]\n",
    "count = 1\n",
    "fcount = 1\n",
    "\n",
    "while capture.isOpened() and ret:\n",
    "    ret1,frame1 = capture.read()\n",
    "    \n",
    "    if ret1:\n",
    "        fcount += 1\n",
    "        gray = cv2.cvtColor(frame1, cv2.COLOR_BGR2GRAY)\n",
    "        gheader = gray[0:80,0:960]\n",
    "        mse_orig = mse(gray[80:460,0:960],unique[80:460,0:960])\n",
    "        mse_header = mse(gheader,uheader)\n",
    "        \n",
    "        if mse_orig>3000 or mse_header>4380:\n",
    "            print(mse_orig,mse_header)\n",
    "            name = str(count)+'_frame_'+str(fcount)+'.jpg'\n",
    "            count += 1\n",
    "            cv2.imwrite(name,unique)\n",
    "            unique = gray\n",
    "            uheader = unique[0:80,0:960]\n",
    "            \n",
    "    else:\n",
    "        name = str(count)+'_frame_'+str(fcount)+'.jpg'\n",
    "        count += 1\n",
    "        cv2.imwrite(name,unique)\n",
    "        #count += 1\n",
    "        #cv2.imwrite(name,unique)\n",
    "        break\n",
    "        \n",
    "capture.release()"
   ]
  },
  {
   "cell_type": "markdown",
   "metadata": {},
   "source": [
    "### Find unique slide based on header comparison"
   ]
  },
  {
   "cell_type": "code",
   "execution_count": 2,
   "metadata": {},
   "outputs": [],
   "source": [
    "import cv2\n",
    "import numpy as np\n",
    "import pytesseract"
   ]
  },
  {
   "cell_type": "code",
   "execution_count": 3,
   "metadata": {},
   "outputs": [],
   "source": [
    "def mse(imageA, imageB):\n",
    "\n",
    "    err = np.sum((imageA.astype(\"float\") - imageB.astype(\"float\")) ** 2)\n",
    "    err /= float(imageA.shape[0] * imageA.shape[1])\n",
    "    \n",
    "    return err"
   ]
  },
  {
   "cell_type": "code",
   "execution_count": 4,
   "metadata": {},
   "outputs": [],
   "source": [
    "capture = cv2.VideoCapture('test.mp4')"
   ]
  },
  {
   "cell_type": "code",
   "execution_count": 27,
   "metadata": {},
   "outputs": [
    {
     "name": "stdout",
     "output_type": "stream",
     "text": [
      "1 2826.3809299591353 14134.095708333334\n",
      "2 2822.995462639545 14141.923569444445\n",
      "3 2122.9807747186264 3143.682625\n",
      "4 3730.4875179782207 2664.4704444444446\n",
      "5 4700.830471086455 3117.4348611111113\n",
      "6 2503.8779021984797 1634.1198472222222\n",
      "7 4615.543438805561 3123.1968888888887\n",
      "8 14071.679422642284 9257.552847222221\n",
      "9 1772.5663681711299 1765.3761805555555\n",
      "10 1745.7461903294295 1773.1720972222222\n"
     ]
    }
   ],
   "source": [
    "ret,frame = capture.read()\n",
    "unique = cv2.cvtColor(frame, cv2.COLOR_BGR2GRAY)\n",
    "uheader = unique[0:80,40:940]\n",
    "count = 1\n",
    "fcount = 1\n",
    "\n",
    "while capture.isOpened() and ret:\n",
    "    ret1,frame1 = capture.read()\n",
    "    \n",
    "    if ret1:\n",
    "        fcount += 1\n",
    "        gray = cv2.cvtColor(frame1, cv2.COLOR_BGR2GRAY)\n",
    "        gheader = gray[0:80,40:940]\n",
    "        mse_orig = mse(gray[80:452,10:952],unique[80:452,10:952])\n",
    "        mse_header = mse(gheader,uheader)\n",
    "        \n",
    "        if mse_orig>1350 and mse_header>750 or mse_header > 5000:\n",
    "            print(count,mse_orig,mse_header)\n",
    "            name = str(count)+'_frame_'+str(fcount)+'.jpg'\n",
    "            count += 1\n",
    "            cv2.imwrite(name,unique)\n",
    "            print(pytesseract.image_to_string(uheader))\n",
    "            unique = gray\n",
    "            uheader = unique[0:80,40:940]\n",
    "            \n",
    "    else:\n",
    "        name = str(count)+'_frame_'+str(fcount)+'.jpg'\n",
    "        count += 1\n",
    "        cv2.imwrite(name,unique)\n",
    "        print(pytesseract.image_to_string(uheader))\n",
    "        #count += 1\n",
    "        #cv2.imwrite(name,unique)\n",
    "        break\n",
    "        \n",
    "capture.release()"
   ]
  },
  {
   "cell_type": "code",
   "execution_count": 1,
   "metadata": {},
   "outputs": [],
   "source": [
    "import pytesseract"
   ]
  },
  {
   "cell_type": "code",
   "execution_count": null,
   "metadata": {},
   "outputs": [],
   "source": []
  }
 ],
 "metadata": {
  "kernelspec": {
   "display_name": "Python 3",
   "language": "python",
   "name": "python3"
  },
  "language_info": {
   "codemirror_mode": {
    "name": "ipython",
    "version": 3
   },
   "file_extension": ".py",
   "mimetype": "text/x-python",
   "name": "python",
   "nbconvert_exporter": "python",
   "pygments_lexer": "ipython3",
   "version": "3.7.3"
  }
 },
 "nbformat": 4,
 "nbformat_minor": 2
}
