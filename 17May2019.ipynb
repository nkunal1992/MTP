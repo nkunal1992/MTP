{
 "cells": [
  {
   "cell_type": "code",
   "execution_count": 1,
   "metadata": {},
   "outputs": [],
   "source": [
    "import cv2\n",
    "import time\n",
    "import numpy as np"
   ]
  },
  {
   "cell_type": "code",
   "execution_count": 2,
   "metadata": {},
   "outputs": [],
   "source": [
    "capture = cv2.VideoCapture('test1.mp4')"
   ]
  },
  {
   "cell_type": "code",
   "execution_count": 7,
   "metadata": {},
   "outputs": [
    {
     "name": "stdout",
     "output_type": "stream",
     "text": [
      "width=960,height=540,frame count=27163,fps=30\n"
     ]
    }
   ],
   "source": [
    "width = int(capture.get(cv2.CAP_PROP_FRAME_WIDTH))\n",
    "height = int(capture.get(cv2.CAP_PROP_FRAME_HEIGHT))\n",
    "count = int(capture.get(cv2.CAP_PROP_FRAME_COUNT))\n",
    "fps = int(capture.get(cv2.CAP_PROP_FPS))\n",
    "print(f'width={width},height={height},frame count={count},fps={fps}')"
   ]
  },
  {
   "cell_type": "markdown",
   "metadata": {},
   "source": [
    "### Euclidean distance"
   ]
  },
  {
   "cell_type": "code",
   "execution_count": 3,
   "metadata": {},
   "outputs": [],
   "source": [
    "def euclidean_dist(A,B):\n",
    "    return np.sqrt(np.sum((A - B)**2))"
   ]
  },
  {
   "cell_type": "code",
   "execution_count": 4,
   "metadata": {},
   "outputs": [],
   "source": [
    "def manhattan_dist(A,B):\n",
    "    return np.sum(abs(A - B))"
   ]
  },
  {
   "cell_type": "code",
   "execution_count": 6,
   "metadata": {},
   "outputs": [
    {
     "data": {
      "text/plain": [
       "5"
      ]
     },
     "execution_count": 6,
     "metadata": {},
     "output_type": "execute_result"
    }
   ],
   "source": [
    "manhattan_dist(np.array([2,3]),np.array([-1,5]))"
   ]
  },
  {
   "cell_type": "code",
   "execution_count": 9,
   "metadata": {},
   "outputs": [
    {
     "name": "stdout",
     "output_type": "stream",
     "text": [
      "1 66045674 9277970\n",
      "2 36041189 10536480\n",
      "3 41612601 10502130\n",
      "4 37052625 9660539\n",
      "5 28270035 9422331\n"
     ]
    }
   ],
   "source": [
    "capture = cv2.VideoCapture('full1.mp4')\n",
    "\n",
    "ret,frame = capture.read()\n",
    "unique = cv2.cvtColor(frame, cv2.COLOR_BGR2GRAY)\n",
    "uheader = unique[0:80,40:940]\n",
    "count = 1\n",
    "fcount = 1\n",
    "\n",
    "while capture.isOpened() and ret:\n",
    "    ret1,frame1 = capture.read()\n",
    "    \n",
    "    if ret1:\n",
    "        fcount += 1\n",
    "        gray = cv2.cvtColor(frame1, cv2.COLOR_BGR2GRAY)\n",
    "        gheader = gray[0:80,40:940]\n",
    "        ed_orig = manhattan_dist(gray[80:452,10:952],unique[80:452,10:952])\n",
    "        ed_header = manhattan_dist(gheader,uheader)\n",
    "        \n",
    "        if ed_orig>20000000 and ed_header>9000000:\n",
    "            print(count,ed_orig,ed_header)\n",
    "            name = str(count)+'_frame_'+str(fcount)+'.jpg'\n",
    "            count += 1\n",
    "            cv2.imwrite(name,unique)\n",
    "            #print(pytesseract.image_to_string(uheader))\n",
    "            #print()\n",
    "            unique = gray\n",
    "            uheader = unique[0:80,40:940]\n",
    "            \n",
    "    else:\n",
    "        name = str(count)+'_frame_'+str(fcount)+'.jpg'\n",
    "        count += 1\n",
    "        cv2.imwrite(name,unique)\n",
    "        #print(pytesseract.image_to_string(uheader))\n",
    "        #count += 1\n",
    "        #cv2.imwrite(name,unique)\n",
    "        break\n",
    "        \n",
    "capture.release()"
   ]
  },
  {
   "cell_type": "code",
   "execution_count": 25,
   "metadata": {},
   "outputs": [
    {
     "name": "stdout",
     "output_type": "stream",
     "text": [
      "1 2256.3080463447363 2548.2845210062396\n",
      "2 2330.6449751088217 2841.3982473423184\n",
      "3 3970.1610798555766 2513.0955015677378\n",
      "4 4620.153135990191 2671.7627140148506\n"
     ]
    }
   ],
   "source": [
    "capture = cv2.VideoCapture('test1.mp4')\n",
    "\n",
    "ret,frame = capture.read()\n",
    "unique = cv2.cvtColor(frame, cv2.COLOR_BGR2GRAY)\n",
    "uheader = unique[0:80,40:940]\n",
    "count = 1\n",
    "fcount = 1\n",
    "\n",
    "while capture.isOpened() and ret:\n",
    "    ret1,frame1 = capture.read()\n",
    "    \n",
    "    if ret1:\n",
    "        fcount += 1\n",
    "        gray = cv2.cvtColor(frame1, cv2.COLOR_BGR2GRAY)\n",
    "        gheader = gray[0:80,40:940]\n",
    "        ed_orig = euclidean_dist(gray[80:452,10:952],unique[80:452,10:952])\n",
    "        ed_header = euclidean_dist(gheader,uheader)\n",
    "        \n",
    "        if ed_header>2500 or ed_orig>8900:\n",
    "            print(count,ed_orig,ed_header)\n",
    "            name = str(count)+'_frame_'+str(fcount)+'.jpg'\n",
    "            count += 1\n",
    "            #cv2.imwrite(name,unique)\n",
    "            time.sleep(3)\n",
    "            cv2.imshow('unique',unique)\n",
    "            #print(pytesseract.image_to_string(uheader))\n",
    "            #print()\n",
    "            unique = gray\n",
    "            uheader = unique[0:80,40:940]\n",
    "            \n",
    "            if cv2.waitKey(1) & 0xFF == ord('q'):\n",
    "                break\n",
    "            \n",
    "    else:\n",
    "        name = str(count)+'_frame_'+str(fcount)+'.jpg'\n",
    "        count += 1\n",
    "        #cv2.imwrite(name,unique)\n",
    "        time.sleep(2)\n",
    "        cv2.imshow('unique',unique)\n",
    "        if cv2.waitKey(1) & 0xFF == ord('q'):\n",
    "            break\n",
    "        #print(pytesseract.image_to_string(uheader))\n",
    "        #count += 1\n",
    "        #cv2.imwrite(name,unique)\n",
    "        break\n",
    "        \n",
    "capture.release()\n",
    "cv2.destroyAllWindows()"
   ]
  },
  {
   "cell_type": "markdown",
   "metadata": {},
   "source": [
    "### Histogram of Image\n",
    "\n",
    "**cv2.calcHist(images, channels, mask, histSize, ranges[, hist[, accumulate]])**\n",
    "\n",
    "- images : it is the source image of type uint8 or float32. it should be given in square brackets, ie, \"[img]\".\n",
    "- channels : it is also given in square brackets. It is the index of channel for which we calculate histogram. For example, if input is grayscale image, its value is [0]. For color image, you can pass [0], [1] or [2] to calculate histogram of blue, green or red channel respectively.\n",
    "- mask : mask image. To find histogram of full image, it is given as \"None\". But if you want to find histogram of particular region of image, you have to create a mask image for that and give it as mask. (I will show an example later.)\n",
    "- histSize : this represents our BIN count. Need to be given in square brackets. For full scale, we pass [256].\n",
    "- ranges : this is our RANGE. Normally, it is [0,256]."
   ]
  },
  {
   "cell_type": "code",
   "execution_count": 4,
   "metadata": {},
   "outputs": [
    {
     "data": {
      "image/png": "[encoded data removed]",
      "text/plain": [
       "<Figure size 432x288 with 1 Axes>"
      ]
     },
     "metadata": {
      "needs_background": "light"
     },
     "output_type": "display_data"
    }
   ],
   "source": [
    "import cv2\n",
    "import numpy as np\n",
    "import matplotlib.pyplot as plt\n",
    "\n",
    "image = cv2.imread('Narayan.jpg')\n",
    "\n",
    "histogram = cv2.calcHist([image], [0], None, [256], [0, 256])\n",
    "\n",
    "# Viewing Separate Color Channels\n",
    "color = ('b', 'g', 'r')\n",
    "\n",
    "# We now separate the colors and plot each in the Histogram\n",
    "for i, col in enumerate(color):\n",
    "    histogram2 = cv2.calcHist([image], [i], None, [256], [0, 256])\n",
    "    plt.plot(histogram2, color = col)\n",
    "    plt.xlim([0,256])\n",
    "    \n",
    "plt.show()"
   ]
  },
  {
   "cell_type": "markdown",
   "metadata": {},
   "source": [
    "### Edge detection"
   ]
  },
  {
   "cell_type": "code",
   "execution_count": 3,
   "metadata": {},
   "outputs": [],
   "source": [
    "import cv2\n",
    "import numpy as np\n",
    "\n",
    "image = cv2.imread('Narayan.jpg',0)\n",
    "\n",
    "height, width = image.shape\n",
    "\n",
    "cv2.imshow('Original', image)\n",
    "cv2.waitKey(5000)\n",
    "\n",
    "cv2.destroyAllWindows()"
   ]
  },
  {
   "cell_type": "code",
   "execution_count": 4,
   "metadata": {},
   "outputs": [],
   "source": [
    "# Sobel: Horizontal Edge detection\n",
    "\n",
    "# Extract Sobel Edges\n",
    "sobel_x = cv2.Sobel(image, cv2.CV_64F, 0, 1, ksize=5)\n",
    "\n",
    "cv2.imshow('Sobel X', sobel_x)\n",
    "cv2.waitKey(5000)\n",
    "\n",
    "cv2.destroyAllWindows()"
   ]
  },
  {
   "cell_type": "code",
   "execution_count": 5,
   "metadata": {},
   "outputs": [],
   "source": [
    "# Sobel: Vertical Edge detection\n",
    "\n",
    "sobel_y = cv2.Sobel(image, cv2.CV_64F, 1, 0, ksize=5)\n",
    "\n",
    "cv2.imshow('Sobel Y', sobel_y)\n",
    "cv2.waitKey(5000)\n",
    "\n",
    "cv2.destroyAllWindows()"
   ]
  },
  {
   "cell_type": "code",
   "execution_count": 6,
   "metadata": {},
   "outputs": [],
   "source": [
    "# Sobel: Combine both horizontal and vertical edge\n",
    "\n",
    "sobel_OR = cv2.bitwise_or(sobel_x, sobel_y)\n",
    "cv2.imshow('sobel_OR', sobel_OR)\n",
    "cv2.waitKey(5000)\n",
    "\n",
    "cv2.destroyAllWindows()"
   ]
  },
  {
   "cell_type": "code",
   "execution_count": 8,
   "metadata": {},
   "outputs": [],
   "source": [
    "# Laplacian\n",
    "\n",
    "laplacian = cv2.Laplacian(image, cv2.CV_64F)\n",
    "cv2.imshow('Laplacian', laplacian)\n",
    "cv2.waitKey(5000)\n",
    "cv2.destroyAllWindows()"
   ]
  },
  {
   "cell_type": "code",
   "execution_count": 28,
   "metadata": {},
   "outputs": [],
   "source": [
    "# Canny Edge Detection uses gradient values as thresholds\n",
    "\n",
    "# we need to provide two values: threshold1 and threshold2. Any gradient value larger than threshold2\n",
    "# is considered to be an edge. Any value below threshold1 is considered not to be an edge. \n",
    "#Values in between threshold1 and threshold2 are either classiﬁed as edges or non-edges based on how their \n",
    "#intensities are “connected”. In this case, any gradient values below 60 are considered non-edges\n",
    "#whereas any values above 120 are considered edges.\n",
    "image = cv2.imread('Narayan.jpg',0)\n",
    "\n",
    "canny = cv2.Canny(image, 60, 120)\n",
    "cv2.imshow('Canny', canny)\n",
    "cv2.waitKey(5000)\n",
    "\n",
    "cv2.destroyAllWindows()"
   ]
  },
  {
   "cell_type": "markdown",
   "metadata": {},
   "source": [
    "### Display canny edge of slides"
   ]
  },
  {
   "cell_type": "code",
   "execution_count": 5,
   "metadata": {},
   "outputs": [],
   "source": [
    "import cv2\n",
    "import time"
   ]
  },
  {
   "cell_type": "code",
   "execution_count": 8,
   "metadata": {},
   "outputs": [],
   "source": [
    "capture = cv2.VideoCapture('test1.mp4')\n",
    "while capture.isOpened():\n",
    "    \n",
    "    ret1,frame1 = capture.read()\n",
    "    \n",
    "    if ret1 == True:\n",
    "        \n",
    "        gray = cv2.cvtColor(frame1, cv2.COLOR_BGR2GRAY)\n",
    "        g1 = gray[0:80,0:960]\n",
    "        time.sleep(1/fps)\n",
    "        cv2.imshow('frame1',gray)\n",
    "        \n",
    "        canny = cv2.Canny(gray.copy(), 60, 120)\n",
    "        cv2.imshow('Canny', canny)\n",
    "    \n",
    "        if cv2.waitKey(1) & 0xFF == ord('q'):\n",
    "            break\n",
    "    \n",
    "    else:\n",
    "        break\n",
    "        \n",
    "capture.release()\n",
    "cv2.destroyAllWindows()"
   ]
  },
  {
   "cell_type": "markdown",
   "metadata": {},
   "source": [
    "### Every fps'th frame"
   ]
  },
  {
   "cell_type": "code",
   "execution_count": 10,
   "metadata": {},
   "outputs": [],
   "source": [
    "import cv2\n",
    "import time"
   ]
  },
  {
   "cell_type": "code",
   "execution_count": null,
   "metadata": {},
   "outputs": [],
   "source": [
    "capture = cv2.VideoCapture('test3.mp4')\n",
    "fps = int(capture.get(cv2.CAP_PROP_FPS))\n",
    "fnum = 0\n",
    "count = 0\n",
    "while capture.isOpened():\n",
    "    #num = int(round(capture.get(1)))\n",
    "    ret1,frame1 = capture.read()\n",
    "    #num = int(capture.get(cv2.CAP_PROP_POS_FRAMES))\n",
    "    \n",
    "    if ret1 == True: \n",
    "        \n",
    "        if fnum%fps==0:\n",
    "            count += 1\n",
    "            print(count,fnum)\n",
    "\n",
    "            gray = cv2.cvtColor(frame1, cv2.COLOR_BGR2GRAY)\n",
    "            #time.sleep(6)\n",
    "            cv2.imshow('frame1',gray)\n",
    "\n",
    "            canny = cv2.Canny(gray.copy(), 60, 120)\n",
    "            cv2.imshow('Canny', canny)\n",
    "\n",
    "            if cv2.waitKey(1) & 0xFF == ord('q'):\n",
    "                break\n",
    "                \n",
    "        fnum += 1\n",
    "    \n",
    "    else:\n",
    "        break\n",
    "        \n",
    "capture.release()\n",
    "cv2.destroyAllWindows()"
   ]
  },
  {
   "cell_type": "code",
   "execution_count": null,
   "metadata": {},
   "outputs": [],
   "source": []
  },
  {
   "cell_type": "code",
   "execution_count": 1,
   "metadata": {},
   "outputs": [],
   "source": [
    "import cv2\n",
    "import numpy as np"
   ]
  },
  {
   "cell_type": "code",
   "execution_count": 2,
   "metadata": {},
   "outputs": [],
   "source": [
    "def mse(imageA, imageB):\n",
    "\n",
    "    err = np.sum((imageA.astype(\"float\") - imageB.astype(\"float\")) ** 2)\n",
    "    err /= float(imageA.shape[0] * imageA.shape[1])\n",
    "    \n",
    "    return err"
   ]
  },
  {
   "cell_type": "code",
   "execution_count": 3,
   "metadata": {},
   "outputs": [
    {
     "name": "stdout",
     "output_type": "stream",
     "text": [
      "4227.595347350638 1945.30875\n",
      "4563.586840513207 2376.114361111111\n",
      "5180.200705431135 2159.487347222222\n",
      "4682.110132296874 2297.81\n",
      "2448.313948245554 14291.506041666667\n",
      "2890.8579692030225 2406.8068055555555\n",
      "2983.879029404379 2371.1109305555556\n",
      "1666.1973552039815 2156.0603472222224\n",
      "2049.6009890875052 2277.5494722222224\n",
      "1699.675062210351 14300.857791666667\n",
      "3517.761169326302 2390.0815416666665\n",
      "5112.071690295185 2428.7792777777777\n",
      "5111.472596055065 2392.925277777778\n",
      "5129.181480149761 2429.2257777777777\n",
      "6904.045387872977 27765.035347222223\n",
      "1083.4267658607857 27855.803305555557\n",
      "5708.545553386754 25504.222125\n"
     ]
    }
   ],
   "source": [
    "capture = cv2.VideoCapture('test3.mp4')\n",
    "fps = int(capture.get(cv2.CAP_PROP_FPS))\n",
    "fnum = 0\n",
    "\n",
    "ret,frame = capture.read()\n",
    "unique = cv2.cvtColor(frame, cv2.COLOR_BGR2GRAY)\n",
    "uheader = unique[0:80,40:940]\n",
    "count = 1\n",
    "\n",
    "if ret:\n",
    "    fnum = 1\n",
    "while capture.isOpened() and ret:\n",
    "    ret1,frame1 = capture.read()\n",
    "    \n",
    "    if ret1:\n",
    "        if fnum % fps == 0:\n",
    "            gray = cv2.cvtColor(frame1, cv2.COLOR_BGR2GRAY)\n",
    "            gheader = gray[0:80,40:940]\n",
    "            mse_orig = mse(gray[80:452,10:952],unique[80:452,10:952])\n",
    "            mse_header = mse(gheader,uheader)\n",
    "\n",
    "            if mse_orig>1350 and mse_header>750 or mse_orig>1000 and mse_header > 5000:\n",
    "                print(mse_orig,mse_header)\n",
    "                name = 'slide_'+str(count)+'.jpg'\n",
    "                count += 1\n",
    "                cv2.imwrite(name,unique)\n",
    "                unique = gray\n",
    "        fnum += 1\n",
    "    else:\n",
    "        count += 1\n",
    "        cv2.imwrite(name,unique)\n",
    "        break\n",
    "        \n",
    "capture.release()"
   ]
  },
  {
   "cell_type": "markdown",
   "metadata": {},
   "source": [
    "### Edge Change ration"
   ]
  },
  {
   "cell_type": "code",
   "execution_count": 27,
   "metadata": {},
   "outputs": [
    {
     "name": "stdout",
     "output_type": "stream",
     "text": [
      "Number of shots detected 0\n"
     ]
    }
   ],
   "source": [
    "import sys\n",
    "import cv2\n",
    "import numpy as np\n",
    "import datetime\n",
    "\n",
    "# returns the edge-change-ratio\n",
    "# The crop parameter can help you to reduce noises (e.g. subtitiles),\n",
    "# the dilate_rate parameter controls the distance of the pixels between the frame\n",
    "# and prev_frame\n",
    "\n",
    "\n",
    "def ECR(frame, prev_frame, width, height, crop=False, dilate_rate = 3):\n",
    "    safe_div = lambda x,y: 0 if y == 0 else x / y\n",
    "    if crop:\n",
    "        startY = int(height * 0.3)\n",
    "        endY = int(height * 0.8)\n",
    "        startX = int(width * 0.3)\n",
    "        endX = int(width * 0.8)\n",
    "        frame = frame[startY:endY, startX:endX]\n",
    "        prev_frame = prev_frame[startY:endY, startX:endX]\n",
    "\n",
    "    # Convert the frame into grayscale (Current frame)\n",
    "    gray_image = cv2.cvtColor(frame, cv2.COLOR_BGR2GRAY)\n",
    "\n",
    "    #Perform Canny Edge Detection to detect the number of edges (Current frame)\n",
    "    edge = cv2.Canny(gray_image, 0, 200)\n",
    "\n",
    "    #Perform image dilation (Current frame)\n",
    "    dilated = cv2.dilate(edge, np.ones((dilate_rate, dilate_rate)))\n",
    "\n",
    "    #Frame image inversion (Current frame)\n",
    "    inverted = (255 - dilated)\n",
    "\n",
    "    # # Convert the frame into grayscale (Previous frame)\n",
    "    gray_image2 = cv2.cvtColor(prev_frame, cv2.COLOR_BGR2GRAY)\n",
    "\n",
    "    #Perform Canny Edge Detection to detect the number of edges \n",
    "    edge2 = cv2.Canny(gray_image2, 0, 200)\n",
    "\n",
    "    #Perform image dilation \n",
    "    dilated2 = cv2.dilate(edge2, np.ones((dilate_rate, dilate_rate)))\n",
    "\n",
    "    #Frame image inversion (\n",
    "    inverted2 = (255 - dilated2)\n",
    "\n",
    "    # Determine outgoing and incoming edge pixels\n",
    "    log_and1 = (edge2 & inverted) #out\n",
    "    log_and2 = (edge & inverted2) #in\n",
    "\n",
    "    pixels_sum_new = np.sum(edge)\n",
    "    pixels_sum_old = np.sum(edge2)\n",
    "    out_pixels = np.sum(log_and1)\n",
    "    in_pixels = np.sum(log_and2)\n",
    "\n",
    "    return max(safe_div(float(in_pixels),float(pixels_sum_new)), safe_div(float(out_pixels),float(pixels_sum_old)))\n",
    "  \n",
    "\n",
    "\n",
    "path = 'test1.mp4'\n",
    "video = cv2.VideoCapture(path)\n",
    "width = video.get(cv2.CAP_PROP_FRAME_WIDTH)\n",
    "height = video.get(cv2.CAP_PROP_FRAME_HEIGHT)\n",
    "fps = video.get(cv2.CAP_PROP_FPS)\n",
    "\n",
    "count = 0\n",
    " \n",
    "video.set(3, width)\n",
    "video.set(4, height)\n",
    "prev_frame = None\n",
    "while True:\n",
    "    ret, frame = video.read()\n",
    "    if frame is None:\n",
    "        break\n",
    "    if prev_frame is not None:\n",
    "        #print (ECR(frame, prev_frame, width, height))\n",
    "        ecr = (ECR(frame, prev_frame, width, height))\n",
    "        if ecr > 0.8:\n",
    "            i = (int(video.get(cv2.CAP_PROP_POS_FRAMES)))\n",
    "            t = (str(datetime.timedelta(seconds = ((i+1)/fps))))\n",
    "            print(\"Frame number \\t{}\".format(i)+\"\\tat time \\t\"+t)\n",
    "            count = count + 1           \n",
    "        \n",
    "    prev_frame = frame\n",
    "\n",
    "\n",
    "print(\"Number of shots detected {}\".format(count))\n",
    "video.release()\n",
    "\n",
    "# Testing with two images"
   ]
  },
  {
   "cell_type": "code",
   "execution_count": null,
   "metadata": {},
   "outputs": [],
   "source": []
  }
 ],
 "metadata": {
  "kernelspec": {
   "display_name": "Python 3",
   "language": "python",
   "name": "python3"
  },
  "language_info": {
   "codemirror_mode": {
    "name": "ipython",
    "version": 3
   },
   "file_extension": ".py",
   "mimetype": "text/x-python",
   "name": "python",
   "nbconvert_exporter": "python",
   "pygments_lexer": "ipython3",
   "version": "3.7.3"
  }
 },
 "nbformat": 4,
 "nbformat_minor": 2
}
